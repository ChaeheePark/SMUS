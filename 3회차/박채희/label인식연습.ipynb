{
 "cells": [
  {
   "cell_type": "code",
   "execution_count": 1,
   "metadata": {},
   "outputs": [
    {
     "name": "stdout",
     "output_type": "stream",
     "text": [
      "Requirement already up-to-date: google-api-python-client in c:\\users\\chaeh\\anaconda3\\lib\\site-packages (2.4.0)\n",
      "Requirement already satisfied, skipping upgrade: six<2dev,>=1.13.0 in c:\\users\\chaeh\\anaconda3\\lib\\site-packages (from google-api-python-client) (1.15.0)\n",
      "Requirement already satisfied, skipping upgrade: google-auth<2dev,>=1.16.0 in c:\\users\\chaeh\\anaconda3\\lib\\site-packages (from google-api-python-client) (1.24.0)\n",
      "Requirement already satisfied, skipping upgrade: google-api-core<2dev,>=1.21.0 in c:\\users\\chaeh\\anaconda3\\lib\\site-packages (from google-api-python-client) (1.26.3)\n",
      "Requirement already satisfied, skipping upgrade: httplib2<1dev,>=0.15.0 in c:\\users\\chaeh\\anaconda3\\lib\\site-packages (from google-api-python-client) (0.19.1)\n",
      "Requirement already satisfied, skipping upgrade: google-auth-httplib2>=0.1.0 in c:\\users\\chaeh\\anaconda3\\lib\\site-packages (from google-api-python-client) (0.1.0)\n",
      "Requirement already satisfied, skipping upgrade: uritemplate<4dev,>=3.0.0 in c:\\users\\chaeh\\anaconda3\\lib\\site-packages (from google-api-python-client) (3.0.1)\n",
      "Requirement already satisfied, skipping upgrade: setuptools>=40.3.0 in c:\\users\\chaeh\\anaconda3\\lib\\site-packages (from google-auth<2dev,>=1.16.0->google-api-python-client) (50.3.1.post20201107)\n",
      "Requirement already satisfied, skipping upgrade: rsa<5,>=3.1.4; python_version >= \"3.6\" in c:\\users\\chaeh\\anaconda3\\lib\\site-packages (from google-auth<2dev,>=1.16.0->google-api-python-client) (4.7)\n",
      "Requirement already satisfied, skipping upgrade: cachetools<5.0,>=2.0.0 in c:\\users\\chaeh\\anaconda3\\lib\\site-packages (from google-auth<2dev,>=1.16.0->google-api-python-client) (4.2.1)\n",
      "Requirement already satisfied, skipping upgrade: pyasn1-modules>=0.2.1 in c:\\users\\chaeh\\anaconda3\\lib\\site-packages (from google-auth<2dev,>=1.16.0->google-api-python-client) (0.2.8)\n",
      "Requirement already satisfied, skipping upgrade: protobuf>=3.12.0 in c:\\users\\chaeh\\anaconda3\\lib\\site-packages (from google-api-core<2dev,>=1.21.0->google-api-python-client) (3.13.0)\n",
      "Requirement already satisfied, skipping upgrade: requests<3.0.0dev,>=2.18.0 in c:\\users\\chaeh\\anaconda3\\lib\\site-packages (from google-api-core<2dev,>=1.21.0->google-api-python-client) (2.24.0)\n",
      "Requirement already satisfied, skipping upgrade: packaging>=14.3 in c:\\users\\chaeh\\anaconda3\\lib\\site-packages (from google-api-core<2dev,>=1.21.0->google-api-python-client) (20.4)\n",
      "Requirement already satisfied, skipping upgrade: googleapis-common-protos<2.0dev,>=1.6.0 in c:\\users\\chaeh\\anaconda3\\lib\\site-packages (from google-api-core<2dev,>=1.21.0->google-api-python-client) (1.53.0)\n",
      "Requirement already satisfied, skipping upgrade: pytz in c:\\users\\chaeh\\anaconda3\\lib\\site-packages (from google-api-core<2dev,>=1.21.0->google-api-python-client) (2020.1)\n",
      "Requirement already satisfied, skipping upgrade: pyparsing<3,>=2.4.2 in c:\\users\\chaeh\\anaconda3\\lib\\site-packages (from httplib2<1dev,>=0.15.0->google-api-python-client) (2.4.7)\n",
      "Requirement already satisfied, skipping upgrade: pyasn1>=0.1.3 in c:\\users\\chaeh\\anaconda3\\lib\\site-packages (from rsa<5,>=3.1.4; python_version >= \"3.6\"->google-auth<2dev,>=1.16.0->google-api-python-client) (0.4.8)\n",
      "Requirement already satisfied, skipping upgrade: chardet<4,>=3.0.2 in c:\\users\\chaeh\\anaconda3\\lib\\site-packages (from requests<3.0.0dev,>=2.18.0->google-api-core<2dev,>=1.21.0->google-api-python-client) (3.0.4)\n",
      "Requirement already satisfied, skipping upgrade: idna<3,>=2.5 in c:\\users\\chaeh\\anaconda3\\lib\\site-packages (from requests<3.0.0dev,>=2.18.0->google-api-core<2dev,>=1.21.0->google-api-python-client) (2.10)\n",
      "Requirement already satisfied, skipping upgrade: urllib3!=1.25.0,!=1.25.1,<1.26,>=1.21.1 in c:\\users\\chaeh\\anaconda3\\lib\\site-packages (from requests<3.0.0dev,>=2.18.0->google-api-core<2dev,>=1.21.0->google-api-python-client) (1.25.11)\n",
      "Requirement already satisfied, skipping upgrade: certifi>=2017.4.17 in c:\\users\\chaeh\\anaconda3\\lib\\site-packages (from requests<3.0.0dev,>=2.18.0->google-api-core<2dev,>=1.21.0->google-api-python-client) (2020.12.5)\n"
     ]
    }
   ],
   "source": [
    "!pip3 install --upgrade google-api-python-client"
   ]
  },
  {
   "cell_type": "code",
   "execution_count": null,
   "metadata": {},
   "outputs": [],
   "source": [
    "!pip install --upgrade google-cloud-vision"
   ]
  },
  {
   "cell_type": "code",
   "execution_count": 26,
   "metadata": {},
   "outputs": [
    {
     "name": "stdout",
     "output_type": "stream",
     "text": [
      "Collecting gcloud\n",
      "  Downloading gcloud-0.18.3.tar.gz (454 kB)\n",
      "Requirement already satisfied: httplib2>=0.9.1 in c:\\users\\chaeh\\anaconda3\\lib\\site-packages (from gcloud) (0.19.1)\n",
      "Requirement already satisfied: googleapis-common-protos in c:\\users\\chaeh\\anaconda3\\lib\\site-packages (from gcloud) (1.53.0)\n",
      "Collecting oauth2client>=2.0.1\n",
      "  Downloading oauth2client-4.1.3-py2.py3-none-any.whl (98 kB)\n",
      "Requirement already satisfied: protobuf!=3.0.0.b2.post1,>=3.0.0b2 in c:\\users\\chaeh\\anaconda3\\lib\\site-packages (from gcloud) (3.13.0)\n",
      "Requirement already satisfied: six in c:\\users\\chaeh\\anaconda3\\lib\\site-packages (from gcloud) (1.15.0)\n",
      "Requirement already satisfied: pyparsing<3,>=2.4.2 in c:\\users\\chaeh\\anaconda3\\lib\\site-packages (from httplib2>=0.9.1->gcloud) (2.4.7)\n",
      "Requirement already satisfied: pyasn1>=0.1.7 in c:\\users\\chaeh\\anaconda3\\lib\\site-packages (from oauth2client>=2.0.1->gcloud) (0.4.8)\n",
      "Requirement already satisfied: pyasn1-modules>=0.0.5 in c:\\users\\chaeh\\anaconda3\\lib\\site-packages (from oauth2client>=2.0.1->gcloud) (0.2.8)\n",
      "Requirement already satisfied: rsa>=3.1.4 in c:\\users\\chaeh\\anaconda3\\lib\\site-packages (from oauth2client>=2.0.1->gcloud) (4.7)\n",
      "Requirement already satisfied: setuptools in c:\\users\\chaeh\\anaconda3\\lib\\site-packages (from protobuf!=3.0.0.b2.post1,>=3.0.0b2->gcloud) (50.3.1.post20201107)\n",
      "Building wheels for collected packages: gcloud\n",
      "  Building wheel for gcloud (setup.py): started\n",
      "  Building wheel for gcloud (setup.py): finished with status 'done'\n",
      "  Created wheel for gcloud: filename=gcloud-0.18.3-py3-none-any.whl size=602941 sha256=4365db449d8f3ad225a3789873fa4111022acd85a3441cc8a4e7e4f06830b2e5\n",
      "  Stored in directory: c:\\users\\chaeh\\appdata\\local\\pip\\cache\\wheels\\50\\9d\\19\\dc1a639905431252dbf8a61388a83459c5cfef7add445bebe4\n",
      "Successfully built gcloud\n",
      "Installing collected packages: oauth2client, gcloud\n",
      "Successfully installed gcloud-0.18.3 oauth2client-4.1.3\n"
     ]
    }
   ],
   "source": [
    "!pip install gcloud"
   ]
  },
  {
   "cell_type": "code",
   "execution_count": 5,
   "metadata": {
    "scrolled": true
   },
   "outputs": [
    {
     "name": "stderr",
     "output_type": "stream",
     "text": [
      "Activated service account credentials for: [visionapi@visionapi-313914.iam.gserviceaccount.com]\n"
     ]
    }
   ],
   "source": [
    "!gcloud auth activate-service-account --key-file=\"C:\\Users\\chaeh\\Desktop\\visionapi-313914-2277e510da55.json\""
   ]
  },
  {
   "cell_type": "code",
   "execution_count": 6,
   "metadata": {},
   "outputs": [],
   "source": [
    "def implicit():\n",
    "    from google.cloud import storage\n",
    "\n",
    "    # If you don't specify credentials when constructing the client, the\n",
    "    # client library will look for credentials in the environment.\n",
    "    storage_client = storage.Client()\n",
    "\n",
    "    # Make an authenticated API request\n",
    "    buckets = list(storage_client.list_buckets())\n",
    "    print(buckets)"
   ]
  },
  {
   "cell_type": "code",
   "execution_count": 9,
   "metadata": {},
   "outputs": [
    {
     "name": "stdout",
     "output_type": "stream",
     "text": [
      "Labels:\n",
      "Tin = 88%\n",
      "Communication Device = 88%\n",
      "Rectangle = 87%\n",
      "Portable communications device = 84%\n",
      "Mobile phone = 84%\n",
      "Telephony = 83%\n",
      "Automotive lighting = 83%\n",
      "Gadget = 80%\n",
      "Silver = 75%\n",
      "Everyday carry = 75%\n"
     ]
    }
   ],
   "source": [
    "def run_quickstart(file_name):\n",
    "    import io\n",
    "    import os\n",
    " \n",
    "    # 구글 라이브러리 import\n",
    "    from google.cloud import vision\n",
    "    from google.cloud.vision_v1 import types\n",
    " \n",
    "    # 사용할 클라이언트 설정\n",
    "    client = vision.ImageAnnotatorClient()\n",
    "    \n",
    "    # 이미지 읽기\n",
    "    with io.open(file_name, 'rb') as image_file:\n",
    "        content = image_file.read()\n",
    " \n",
    "    image = types.Image(content=content)\n",
    " \n",
    "    # label 뽑아냄.\n",
    "    response = client.label_detection(image=image)\n",
    "    labels = response.label_annotations\n",
    " \n",
    "    print('Labels:')\n",
    "    for label in labels:\n",
    "        print(label.description + \" = \" + str(int(label.score*100)) + \"%\")\n",
    " \n",
    "if __name__ == '__main__':\n",
    "    run_quickstart(\"case.jpg\")"
   ]
  }
 ],
 "metadata": {
  "kernelspec": {
   "display_name": "Python 3",
   "language": "python",
   "name": "python3"
  },
  "language_info": {
   "codemirror_mode": {
    "name": "ipython",
    "version": 3
   },
   "file_extension": ".py",
   "mimetype": "text/x-python",
   "name": "python",
   "nbconvert_exporter": "python",
   "pygments_lexer": "ipython3",
   "version": "3.7.9"
  }
 },
 "nbformat": 4,
 "nbformat_minor": 4
}
